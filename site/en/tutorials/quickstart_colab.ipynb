{
  "cells": [
    {
      "cell_type": "markdown",
      "metadata": {
        "id": "Tce3stUlHN0L"
      },
      "source": [
        "##### Copyright 2024 Google LLC."
      ]
    },
    {
      "cell_type": "code",
      "execution_count": null,
      "metadata": {
        "cellView": "form",
        "id": "tuOe1ymfHZPu"
      },
      "outputs": [],
      "source": [
        "#@title Licensed under the Apache License, Version 2.0 (the \"License\");\n",
        "# you may not use this file except in compliance with the License.\n",
        "# You may obtain a copy of the License at\n",
        "#\n",
        "# https://www.apache.org/licenses/LICENSE-2.0\n",
        "#\n",
        "# Unless required by applicable law or agreed to in writing, software\n",
        "# distributed under the License is distributed on an \"AS IS\" BASIS,\n",
        "# WITHOUT WARRANTIES OR CONDITIONS OF ANY KIND, either express or implied.\n",
        "# See the License for the specific language governing permissions and\n",
        "# limitations under the License."
      ]
    },
    {
      "cell_type": "markdown",
      "metadata": {
        "id": "-QhPWE1lwZHH"
      },
      "source": [
        "# Gemini API Python quickstart"
      ]
    },
    {
      "cell_type": "markdown",
      "metadata": {
        "id": "fa7c47ae6451"
      },
      "source": [
        "<table class=\"tfo-notebook-buttons\" align=\"left\">\n",
        "  <td>\n",
        "    <a target=\"_blank\" href=\"https://ai.google.dev/tutorials/quickstart_colab\"><img src=\"https://ai.google.dev/static/site-assets/images/docs/notebook-site-button.png\" height=\"32\" width=\"32\" />View on Google AI</a>\n",
        "  </td>\n",
        "  <td>\n",
        "    <a target=\"_blank\" href=\"https://colab.research.google.com/github/google/generative-ai-docs/blob/main/site/en/tutorials/quickstart_colab.ipynb\"><img src=\"https://www.tensorflow.org/images/colab_logo_32px.png\" />Run in Google Colab</a>\n",
        "  </td>\n",
        "  <td>\n",
        "    <a target=\"_blank\" href=\"https://github.com/google/generative-ai-docs/blob/main/site/en/tutorials/quickstart_colab.ipynb\"><img src=\"https://www.tensorflow.org/images/GitHub-Mark-32px.png\" />View source on GitHub</a>\n",
        "  </td>\n",
        "</table>"
      ]
    },
    {
      "cell_type": "markdown",
      "metadata": {
        "id": "db29b8d4247e"
      },
      "source": [
        "This tutorial shows you how to get started with the Gemini API using the Python SDK."
      ]
    },
    {
      "cell_type": "markdown",
      "metadata": {
        "id": "NNNg43Ymw54e"
      },
      "source": [
        "## Prerequisites\n",
        "\n",
        "You can run this tutorial in Google Colab, which doesn't require additional environment configuration.\n",
        "\n",
        "Alternatively, to complete this quickstart locally, see the Python guidance in [Get started with the Gemini API](https://ai.google.dev/tutorials/quickstart)."
      ]
    },
    {
      "cell_type": "markdown",
      "metadata": {
        "id": "kHkHARdb1ZID"
      },
      "source": [
        "## Install the SDK\n",
        "\n",
        "The Python SDK for the Gemini API is contained in the [`google-generativeai`](https://pypi.org/project/google-generativeai/) package. Install the dependency using pip:"
      ]
    },
    {
      "cell_type": "code",
      "execution_count": 1,
      "metadata": {
        "id": "J6Pd9SFJ1yVi"
      },
      "outputs": [],
      "source": [
        "!pip install -q -U google-generativeai"
      ]
    },
    {
      "cell_type": "markdown",
      "metadata": {
        "id": "EeMCtmx9ykyx"
      },
      "source": [
        "## Set up your API key\n",
        "\n",
        "To use the Gemini API, you'll need an API key. If you don't already have one, create a key in Google AI Studio.\n",
        "\n",
        "<a class=\"button\" href=\"https://aistudio.google.com/app/apikey\" target=\"_blank\" rel=\"noopener noreferrer\">Get an API key</a>\n",
        "\n",
        "In Colab, add the key to the secrets manager under the \"🔑\" in the left panel. Give it the name `GOOGLE_API_KEY`. Then pass the key to the SDK:"
      ]
    },
    {
      "cell_type": "code",
      "execution_count": 3,
      "metadata": {
        "id": "HTiaTu6O1LRC"
      },
      "outputs": [],
      "source": [
        "# Import the Python SDK\n",
        "import google.generativeai as genai\n",
        "# Used to securely store your API key\n",
        "from google.colab import userdata\n",
        "\n",
        "GOOGLE_API_KEY=userdata.get('GOOGLE_API_KEY')\n",
        "genai.configure(api_key=GOOGLE_API_KEY)"
      ]
    },
    {
      "cell_type": "markdown",
      "metadata": {
        "id": "CZPYk29o2No0"
      },
      "source": [
        "## Initialize the Generative Model\n",
        "\n",
        "Before you can make any API calls, you need to initialize the Generative Model."
      ]
    },
    {
      "cell_type": "code",
      "execution_count": 4,
      "metadata": {
        "id": "s-JqXcDe2hZ_"
      },
      "outputs": [],
      "source": [
        "model = genai.GenerativeModel('gemini-pro')"
      ]
    },
    {
      "cell_type": "markdown",
      "metadata": {
        "id": "nXxypzJH4MUl"
      },
      "source": [
        "## Generate text"
      ]
    },
    {
      "cell_type": "code",
      "execution_count": 7,
      "metadata": {
        "id": "j51mcrLD4Y2W",
        "outputId": "25c3ac9b-32a9-48b8-821d-c92a75026801",
        "colab": {
          "base_uri": "https://localhost:8080/",
          "height": 1000
        }
      },
      "outputs": [
        {
          "output_type": "stream",
          "name": "stdout",
          "text": [
            "**Day 1:**\n",
            "\n",
            "* Arrive at Bandaranaike International Airport (CMB) and transfer to Negombo (approx. 30 minutes drive)\n",
            "* Check in to your hotel in Negombo\n",
            "* Relax and unwind on the pristine beaches of Negombo\n",
            "\n",
            "**Day 2:**\n",
            "\n",
            "* Visit the picturesque Dutch Canal System\n",
            "* Engage in exciting water sports such as kitesurfing, windsurfing, or snorkeling\n",
            "* Savor fresh seafood at one of the many local restaurants\n",
            "\n",
            "**Day 3:**\n",
            "\n",
            "* Embark on a day trip to Colombo, the bustling capital city\n",
            "* Explore the vibrant streets and visit iconic landmarks like the Galle Face Green and the Gangaramaya Temple\n",
            "* Indulge in some shopping at the bustling Pettah Market\n",
            "\n",
            "**Day 4:**\n",
            "\n",
            "* Check out of your hotel and transfer to Kandy (approx. 3-hour drive)\n",
            "* Check in to your hotel in Kandy\n",
            "* Visit the sacred Temple of the Tooth Relic and witness the evening Pooja ceremony\n",
            "\n",
            "**Day 5:**\n",
            "\n",
            "* Take a scenic train ride to Ella (approx. 6-hour journey)\n",
            "* Marvel at the breathtaking views of the lush landscapes and tea plantations\n",
            "* Check in to your hotel in Ella\n",
            "\n",
            "**Day 6:**\n",
            "\n",
            "* Hike to Little Adam's Peak for panoramic views of Ella Gap\n",
            "* Visit the picturesque Nine Arch Bridge\n",
            "* Enjoy a relaxing evening amidst the tranquil surroundings\n",
            "\n",
            "**Day 7:**\n",
            "\n",
            "* Check out of your hotel and transfer to Udawalawe National Park (approx. 2-hour drive)\n",
            "* Embark on an exciting jeep safari and encounter majestic elephants in their natural habitat\n",
            "\n",
            "**Day 8:**\n",
            "\n",
            "* Check out of your hotel and transfer to Mirissa (approx. 4-hour drive)\n",
            "* Check in to your hotel in Mirissa\n",
            "* Spend the day swimming, sunbathing, or taking surfing lessons on the beautiful beaches\n",
            "\n",
            "**Day 9:**\n",
            "\n",
            "* Embark on a whale-watching excursion to spot magnificent blue whales\n",
            "* Visit the ancient Galle Fort, a UNESCO World Heritage Site\n",
            "\n",
            "**Day 10:**\n",
            "\n",
            "* Check out of your hotel and transfer to Bandaranaike International Airport (CMB) for your departure flight\n",
            "\n",
            "**Additional Activities to Consider:**\n",
            "\n",
            "* Visit the Pinnawela Elephant Orphanage\n",
            "* Take a cooking class to learn traditional Sri Lankan cuisine\n",
            "* Embark on a pilgrimage to the sacred Kataragama Shrine\n"
          ]
        }
      ],
      "source": [
        "response = model.generate_content(\"itenary for Srilanka trip.\")\n",
        "print(response.text)"
      ]
    },
    {
      "cell_type": "markdown",
      "metadata": {
        "id": "zUUAQS9u4biH"
      },
      "source": [
        "## What's next\n",
        "\n",
        "To learn more about working with the Gemini API, see the [Python tutorial](https://ai.google.dev/tutorials/python_quickstart).\n",
        "\n",
        "If you're new to generative AI models, you might want to look at the\n",
        "[concepts guide](https://ai.google.dev/docs/concepts) and the\n",
        "[Gemini API overview](https://ai.google.dev/docs/gemini_api_overview)."
      ]
    }
  ],
  "metadata": {
    "colab": {
      "name": "quickstart_colab.ipynb",
      "provenance": []
    },
    "kernelspec": {
      "display_name": "Python 3",
      "name": "python3"
    }
  },
  "nbformat": 4,
  "nbformat_minor": 0
}